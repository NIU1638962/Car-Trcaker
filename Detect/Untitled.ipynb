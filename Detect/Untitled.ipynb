{
 "cells": [
  {
   "cell_type": "code",
   "execution_count": 1,
   "id": "f0ade768",
   "metadata": {},
   "outputs": [],
   "source": [
    "from ultralytics import YOLO\n",
    "\n",
    "\n",
    "model = YOLO(\"yolov8n.pt\") "
   ]
  },
  {
   "cell_type": "code",
   "execution_count": 1,
   "id": "ff620a92",
   "metadata": {},
   "outputs": [
    {
     "name": "stdout",
     "output_type": "stream",
     "text": [
      "Se procesaron 12610 frames\n"
     ]
    }
   ],
   "source": [
    "import cv2\n",
    "\n",
    "def process_video_frames(video_path, process_frame_function):\n",
    "    # Cargar el video\n",
    "    video_capture = cv2.VideoCapture(video_path)\n",
    "    \n",
    "    # Verificar si el video fue cargado correctamente\n",
    "    if not video_capture.isOpened():\n",
    "        print(\"Error al abrir el video\")\n",
    "        return\n",
    "\n",
    "    # Contador de frames\n",
    "    frame_count = 0\n",
    "\n",
    "    while True:\n",
    "        # Leer un frame\n",
    "        ret, frame = video_capture.read()\n",
    "        \n",
    "        # Si no quedan más frames, salir del loop\n",
    "        if not ret:\n",
    "            break\n",
    "        \n",
    "        # Aquí llamamos a la función que procesará cada frame\n",
    "        #process_frame_function(frame, frame_count)\n",
    "        \n",
    "        frame_count += 1\n",
    "\n",
    "    # Liberar los recursos\n",
    "    video_capture.release()\n",
    "    print(f\"Se procesaron {frame_count} frames\")\n",
    "\n",
    "# Ejemplo de una función de procesamiento de frames\n",
    "def process_frame_function(frame, frame_number):\n",
    "    # Aquí puedes aplicar cualquier procesamiento. Ejemplo: convertir el frame a escala de grises.\n",
    "    gray_frame = cv2.cvtColor(frame, cv2.COLOR_BGR2GRAY)\n",
    "    \n",
    "    # Mostrar el frame procesado (solo para fines de demostración, puedes quitar esto)\n",
    "    cv2.imshow(f'Frame {frame_number}', gray_frame)\n",
    "    \n",
    "    # Agrega un delay para visualizar los frames procesados (esto también es opcional)\n",
    "    cv2.waitKey(1)\n",
    "\n",
    "# Ejemplo de uso\n",
    "video_path = '../data/output2.mp4'  # Ruta del archivo de video\n",
    "process_video_frames(video_path, process_frame_function)\n",
    "\n",
    "# Cerrar todas las ventanas (si usaste cv2.imshow)\n",
    "cv2.destroyAllWindows()\n"
   ]
  }
 ],
 "metadata": {
  "kernelspec": {
   "display_name": "Python 3 (ipykernel)",
   "language": "python",
   "name": "python3"
  },
  "language_info": {
   "codemirror_mode": {
    "name": "ipython",
    "version": 3
   },
   "file_extension": ".py",
   "mimetype": "text/x-python",
   "name": "python",
   "nbconvert_exporter": "python",
   "pygments_lexer": "ipython3",
   "version": "3.9.12"
  }
 },
 "nbformat": 4,
 "nbformat_minor": 5
}
